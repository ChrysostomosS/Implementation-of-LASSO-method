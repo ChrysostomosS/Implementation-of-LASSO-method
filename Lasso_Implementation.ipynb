{
  "nbformat": 4,
  "nbformat_minor": 0,
  "metadata": {
    "colab": {
      "provenance": [],
      "collapsed_sections": [
        "ye_4VUaTga3F",
        "psJojJt7mp3H"
      ],
      "toc_visible": true,
      "gpuType": "T4",
      "authorship_tag": "ABX9TyOPnCblkE36cQANiD5ylCM/",
      "include_colab_link": true
    },
    "kernelspec": {
      "name": "ir",
      "display_name": "R"
    },
    "language_info": {
      "name": "R"
    },
    "accelerator": "GPU"
  },
  "cells": [
    {
      "cell_type": "markdown",
      "metadata": {
        "id": "view-in-github",
        "colab_type": "text"
      },
      "source": [
        "<a href=\"https://colab.research.google.com/github/ChrysostomosS/Implementation-of-LASSO-method/blob/main/Lasso_Implementation.ipynb\" target=\"_parent\"><img src=\"https://colab.research.google.com/assets/colab-badge.svg\" alt=\"Open In Colab\"/></a>"
      ]
    },
    {
      "cell_type": "markdown",
      "source": [
        "#Loading Dataset"
      ],
      "metadata": {
        "id": "fIJlCTTQL3gj"
      }
    },
    {
      "cell_type": "markdown",
      "source": [
        "README File for details about the dataset. We load the \"swiss\" dataset in R and preview the 5 indicators for the first 10 french-speaking provinces."
      ],
      "metadata": {
        "id": "4Rl18zozKLER"
      }
    },
    {
      "cell_type": "code",
      "execution_count": 1,
      "metadata": {
        "colab": {
          "base_uri": "https://localhost:8080/",
          "height": 412
        },
        "id": "QGeSKOPCJt0W",
        "outputId": "f76fd584-7b01-49e3-a994-ae5ceb59307b"
      },
      "outputs": [
        {
          "output_type": "display_data",
          "data": {
            "text/html": [
              "<table class=\"dataframe\">\n",
              "<caption>A data.frame: 10 × 6</caption>\n",
              "<thead>\n",
              "\t<tr><th></th><th scope=col>Fertility</th><th scope=col>Agriculture</th><th scope=col>Examination</th><th scope=col>Education</th><th scope=col>Catholic</th><th scope=col>Infant.Mortality</th></tr>\n",
              "\t<tr><th></th><th scope=col>&lt;dbl&gt;</th><th scope=col>&lt;dbl&gt;</th><th scope=col>&lt;int&gt;</th><th scope=col>&lt;int&gt;</th><th scope=col>&lt;dbl&gt;</th><th scope=col>&lt;dbl&gt;</th></tr>\n",
              "</thead>\n",
              "<tbody>\n",
              "\t<tr><th scope=row>Courtelary</th><td>80.2</td><td>17.0</td><td>15</td><td>12</td><td> 9.96</td><td>22.2</td></tr>\n",
              "\t<tr><th scope=row>Delemont</th><td>83.1</td><td>45.1</td><td> 6</td><td> 9</td><td>84.84</td><td>22.2</td></tr>\n",
              "\t<tr><th scope=row>Franches-Mnt</th><td>92.5</td><td>39.7</td><td> 5</td><td> 5</td><td>93.40</td><td>20.2</td></tr>\n",
              "\t<tr><th scope=row>Moutier</th><td>85.8</td><td>36.5</td><td>12</td><td> 7</td><td>33.77</td><td>20.3</td></tr>\n",
              "\t<tr><th scope=row>Neuveville</th><td>76.9</td><td>43.5</td><td>17</td><td>15</td><td> 5.16</td><td>20.6</td></tr>\n",
              "\t<tr><th scope=row>Porrentruy</th><td>76.1</td><td>35.3</td><td> 9</td><td> 7</td><td>90.57</td><td>26.6</td></tr>\n",
              "\t<tr><th scope=row>Broye</th><td>83.8</td><td>70.2</td><td>16</td><td> 7</td><td>92.85</td><td>23.6</td></tr>\n",
              "\t<tr><th scope=row>Glane</th><td>92.4</td><td>67.8</td><td>14</td><td> 8</td><td>97.16</td><td>24.9</td></tr>\n",
              "\t<tr><th scope=row>Gruyere</th><td>82.4</td><td>53.3</td><td>12</td><td> 7</td><td>97.67</td><td>21.0</td></tr>\n",
              "\t<tr><th scope=row>Sarine</th><td>82.9</td><td>45.2</td><td>16</td><td>13</td><td>91.38</td><td>24.4</td></tr>\n",
              "</tbody>\n",
              "</table>\n"
            ],
            "text/markdown": "\nA data.frame: 10 × 6\n\n| <!--/--> | Fertility &lt;dbl&gt; | Agriculture &lt;dbl&gt; | Examination &lt;int&gt; | Education &lt;int&gt; | Catholic &lt;dbl&gt; | Infant.Mortality &lt;dbl&gt; |\n|---|---|---|---|---|---|---|\n| Courtelary | 80.2 | 17.0 | 15 | 12 |  9.96 | 22.2 |\n| Delemont | 83.1 | 45.1 |  6 |  9 | 84.84 | 22.2 |\n| Franches-Mnt | 92.5 | 39.7 |  5 |  5 | 93.40 | 20.2 |\n| Moutier | 85.8 | 36.5 | 12 |  7 | 33.77 | 20.3 |\n| Neuveville | 76.9 | 43.5 | 17 | 15 |  5.16 | 20.6 |\n| Porrentruy | 76.1 | 35.3 |  9 |  7 | 90.57 | 26.6 |\n| Broye | 83.8 | 70.2 | 16 |  7 | 92.85 | 23.6 |\n| Glane | 92.4 | 67.8 | 14 |  8 | 97.16 | 24.9 |\n| Gruyere | 82.4 | 53.3 | 12 |  7 | 97.67 | 21.0 |\n| Sarine | 82.9 | 45.2 | 16 | 13 | 91.38 | 24.4 |\n\n",
            "text/latex": "A data.frame: 10 × 6\n\\begin{tabular}{r|llllll}\n  & Fertility & Agriculture & Examination & Education & Catholic & Infant.Mortality\\\\\n  & <dbl> & <dbl> & <int> & <int> & <dbl> & <dbl>\\\\\n\\hline\n\tCourtelary & 80.2 & 17.0 & 15 & 12 &  9.96 & 22.2\\\\\n\tDelemont & 83.1 & 45.1 &  6 &  9 & 84.84 & 22.2\\\\\n\tFranches-Mnt & 92.5 & 39.7 &  5 &  5 & 93.40 & 20.2\\\\\n\tMoutier & 85.8 & 36.5 & 12 &  7 & 33.77 & 20.3\\\\\n\tNeuveville & 76.9 & 43.5 & 17 & 15 &  5.16 & 20.6\\\\\n\tPorrentruy & 76.1 & 35.3 &  9 &  7 & 90.57 & 26.6\\\\\n\tBroye & 83.8 & 70.2 & 16 &  7 & 92.85 & 23.6\\\\\n\tGlane & 92.4 & 67.8 & 14 &  8 & 97.16 & 24.9\\\\\n\tGruyere & 82.4 & 53.3 & 12 &  7 & 97.67 & 21.0\\\\\n\tSarine & 82.9 & 45.2 & 16 & 13 & 91.38 & 24.4\\\\\n\\end{tabular}\n",
            "text/plain": [
              "             Fertility Agriculture Examination Education Catholic\n",
              "Courtelary   80.2      17.0        15          12         9.96   \n",
              "Delemont     83.1      45.1         6           9        84.84   \n",
              "Franches-Mnt 92.5      39.7         5           5        93.40   \n",
              "Moutier      85.8      36.5        12           7        33.77   \n",
              "Neuveville   76.9      43.5        17          15         5.16   \n",
              "Porrentruy   76.1      35.3         9           7        90.57   \n",
              "Broye        83.8      70.2        16           7        92.85   \n",
              "Glane        92.4      67.8        14           8        97.16   \n",
              "Gruyere      82.4      53.3        12           7        97.67   \n",
              "Sarine       82.9      45.2        16          13        91.38   \n",
              "             Infant.Mortality\n",
              "Courtelary   22.2            \n",
              "Delemont     22.2            \n",
              "Franches-Mnt 20.2            \n",
              "Moutier      20.3            \n",
              "Neuveville   20.6            \n",
              "Porrentruy   26.6            \n",
              "Broye        23.6            \n",
              "Glane        24.9            \n",
              "Gruyere      21.0            \n",
              "Sarine       24.4            "
            ]
          },
          "metadata": {}
        }
      ],
      "source": [
        "data(swiss)\n",
        "head(swiss,10)"
      ]
    },
    {
      "cell_type": "markdown",
      "source": [
        "We observe that in the dataset there are 5 explanatory variables $Agriculture$, $Examination$, $Education$, $Catholic$ and $Infant.Mortality$ as well as the response variable $Fertility$ (variable of interest)."
      ],
      "metadata": {
        "id": "t1b64n5UK73b"
      }
    },
    {
      "cell_type": "markdown",
      "source": [
        "#Model Selection (AIC)"
      ],
      "metadata": {
        "id": "DdQEBkA_L9Tb"
      }
    },
    {
      "cell_type": "markdown",
      "source": [
        "We start by choosing the best model using the AIC criterion, a naive yet useful way to highlight the Lasso method later on. You can skip to \"LASSO\" heading. We could use any given package that does this calculation on its own or built it on our own."
      ],
      "metadata": {
        "id": "sHwgLk69MFKp"
      }
    },
    {
      "cell_type": "markdown",
      "source": [
        "We construct such a function as explained below:\n",
        "\n",
        "This function **initially** receives the explanatory variables x and the variable of response y. It registers the names of the explanatory variables in the variable $variables$ and the number of them in the variable $n$.\n",
        "It then initializes the quantity $best\\_aic$ to infinity, which will be used in the iterative process and will be renewed as it finds better models.\n",
        "\n",
        "As for the **main operation of the function**, it makes use of nested loops, where the one loop is inside the other. In the outer loop, where it \"runs\" through every possible number of explanatory variables (p from 1 to n), with the help of the combn() function it calculates all possible combinations of p variables and stores them in the $combinations$ variable (the argument $simplify = FALSE$ ensures that the result of the function is returned as list).\n",
        "\n",
        "It then enters the inner loop, where for each combination of the p explanatory variable constructs the following.\n",
        "\n",
        "  • The formula of the linear model as ”y ∼ ” (response variable) by pasting to the right the variables contained in that iteration, separating them with a $'+'$.\n",
        "\n",
        "  For example, for the explanatory variables x1 and x2, the formula would be ”y ∼ x1 + x2”.\n",
        "  The $as.formula()$ function converts the string data type to an object\n",
        "  which can be used to fit the model in a subsequent step.\n",
        "\n",
        "  • A data frame containing the current explanatory variables and the\n",
        "    of the response y.\n",
        "\n",
        "Finally, it fits the model based on the formula and data calculated above.\n",
        "If the AIC of the current model is smaller than the previous ones, it is stored in the variable $best\\_aic$ and the model is registered as the $best_model$.\n",
        "\n",
        "After the above procedure is done for all possible combinations of the explanatory variables, it returns a list containing the best model (based on the\n",
        "AIC criterion) and the corresponding AIC value."
      ],
      "metadata": {
        "id": "5zYQLJuGMeED"
      }
    },
    {
      "cell_type": "code",
      "source": [
        "# Function to find the best model according to AIC\n",
        "  find_best_model <- function(x, y) {\n",
        "    variables <- colnames(x)\n",
        "    n <- length(variables)\n",
        "\n",
        "    # Initialize the best AIC as a large number\n",
        "    best_aic <- Inf\n",
        "\n",
        "    # Loop through all possible combinations of variables\n",
        "    for (p in 1:n) {\n",
        "      combinations <- combn(variables, p, simplify = FALSE)\n",
        "      for (vars in combinations) {\n",
        "        formula <- as.formula(paste(\"y ~\", paste(vars, collapse = \" + \")))\n",
        "        model_data <- data.frame(y = y, x[, vars, drop = FALSE])\n",
        "        model <- lm(formula, data = model_data)\n",
        "        current_aic <- AIC(model)\n",
        "        if (current_aic < best_aic) {\n",
        "          best_aic <- current_aic\n",
        "          best_model <- model\n",
        "        }\n",
        "      }\n",
        "    }\n",
        "    list(model = best_model, aic = best_aic)\n",
        "  }"
      ],
      "metadata": {
        "id": "rU2ThbcyPp3Y"
      },
      "execution_count": 2,
      "outputs": []
    },
    {
      "cell_type": "markdown",
      "source": [
        "So in R, we define $y$ (response variable) as the quantitative characteristic that measures the fertility and $x$ as a matrix containing the 5 explanatory variables, subtracting all the columns except the first from the \"swiss\" dataset."
      ],
      "metadata": {
        "id": "C4YRunfQP2td"
      }
    },
    {
      "cell_type": "code",
      "source": [
        "x <- as.matrix(swiss[, -1])\n",
        "y <- swiss$Fertility"
      ],
      "metadata": {
        "id": "-zvqtP5pQZuu"
      },
      "execution_count": 3,
      "outputs": []
    },
    {
      "cell_type": "markdown",
      "source": [
        "We then call the above function for our data and receive the best model (called M1) based on the AIC  along with its AIC value."
      ],
      "metadata": {
        "id": "d-CVbrC5QcjZ"
      }
    },
    {
      "cell_type": "code",
      "source": [
        "# Find the best model\n",
        "  best_model_info <- find_best_model(x, y)\n",
        "  M1 <- best_model_info$model\n",
        "  best_model_aic <- best_model_info$aic\n",
        "\n",
        "# Output the best model and its AIC\n",
        "M1\n",
        "best_model_aic"
      ],
      "metadata": {
        "colab": {
          "base_uri": "https://localhost:8080/",
          "height": 191
        },
        "id": "-DXonz4wRaqI",
        "outputId": "981fe966-733a-4b86-ec7d-7e00917f13aa"
      },
      "execution_count": 7,
      "outputs": [
        {
          "output_type": "display_data",
          "data": {
            "text/plain": [
              "\n",
              "Call:\n",
              "lm(formula = formula, data = model_data)\n",
              "\n",
              "Coefficients:\n",
              "     (Intercept)       Agriculture         Education          Catholic  \n",
              "         62.1013           -0.1546           -0.9803            0.1247  \n",
              "Infant.Mortality  \n",
              "          1.0784  \n"
            ]
          },
          "metadata": {}
        },
        {
          "output_type": "display_data",
          "data": {
            "text/html": [
              "325.240844063982"
            ],
            "text/markdown": "325.240844063982",
            "text/latex": "325.240844063982",
            "text/plain": [
              "[1] 325.2408"
            ]
          },
          "metadata": {}
        }
      ]
    },
    {
      "cell_type": "markdown",
      "source": [
        "We notice that the final model includes 4 of the 5 explanatory variables (The second variable $Examination$ is missing). The final model is $\\boxed{\\hat{y} = 62.10 - 0.15 x_1 - 0.98 x_3 + 0.12 x_4 + 1.08 x_5}$"
      ],
      "metadata": {
        "id": "zZCoFKRaSAXs"
      }
    },
    {
      "cell_type": "markdown",
      "source": [
        "#LASSO"
      ],
      "metadata": {
        "id": "CrJTkBYkTMMr"
      }
    },
    {
      "cell_type": "markdown",
      "source": [
        "Using the glmnet library in R, we apply the **Lasso** method. In Lasso, we search for $β$ that minimize the quantity:\n",
        "\n",
        "\\begin{equation*}\n",
        "    (y-Zβ)^{T} (y-Zβ) + λ\\sum_{j=1}^p|β_j|\n",
        "\\end{equation*}\n",
        "\n",
        "where Z: the matrix of normalized covariates, y the vector containing the values of the response variable.\n",
        "\n",
        "For $λ=0$ there is no penalization while for greater values of $λ$ the term $\\sum_{j=1}^p|β_j|$ reaches 0, with the least significant variables reaching 0 faster."
      ],
      "metadata": {
        "id": "411s_l5ETUL5"
      }
    },
    {
      "cell_type": "markdown",
      "source": [
        "According to the plot of coefficients as a function of $log(λ)$ below, the variables x1 and x4 go to 0 faster as the penalty term $λ$ increases, meaninng they do not contribute to the modelsignificantly . In particular, the 1st variable zeroes out faster, with a significant difference from the\n",
        "others, so it is expected not to be included in the model."
      ],
      "metadata": {
        "id": "DPRQKb5nU3Ew"
      }
    },
    {
      "cell_type": "code",
      "source": [
        "install.packages(\"glmnet\")\n",
        "library(glmnet)\n",
        "lasso=glmnet(x,y)\n",
        "plot(lasso, xvar=\"lambda\", label=TRUE)"
      ],
      "metadata": {
        "colab": {
          "base_uri": "https://localhost:8080/",
          "height": 559
        },
        "id": "SOvI30XeVG5b",
        "outputId": "b2c89906-3e36-4c70-d8ba-049f270bd2da"
      },
      "execution_count": 10,
      "outputs": [
        {
          "output_type": "stream",
          "name": "stderr",
          "text": [
            "Installing package into ‘/usr/local/lib/R/site-library’\n",
            "(as ‘lib’ is unspecified)\n",
            "\n",
            "Loading required package: Matrix\n",
            "\n",
            "Loaded glmnet 4.1-8\n",
            "\n"
          ]
        },
        {
          "output_type": "display_data",
          "data": {
            "text/plain": [
              "plot without title"
            ],
            "image/png": "[encoded data removed]"
          },
          "metadata": {
            "image/png": {
              "width": 420,
              "height": 420
            }
          }
        }
      ]
    },
    {
      "cell_type": "markdown",
      "source": [
        "k-fold cross-validation using function $cv.glmnet$ gives the\n",
        "$λ$ that minimizes the CV-MSE (mean square error) with an error that is within one standard deviation from the minimum value."
      ],
      "metadata": {
        "id": "t0UJLAH0VbIS"
      }
    },
    {
      "cell_type": "code",
      "source": [
        "lasso1<-cv.glmnet(x,y)\n",
        "lambda<-lasso1$lambda.1se\n",
        "lambda"
      ],
      "metadata": {
        "colab": {
          "base_uri": "https://localhost:8080/",
          "height": 34
        },
        "id": "xzOtuNp-VcrV",
        "outputId": "399cc11e-583d-48f6-878e-ca221a1a8ba2"
      },
      "execution_count": 11,
      "outputs": [
        {
          "output_type": "display_data",
          "data": {
            "text/html": [
              "1.53712315186009"
            ],
            "text/markdown": "1.53712315186009",
            "text/latex": "1.53712315186009",
            "text/plain": [
              "[1] 1.537123"
            ]
          },
          "metadata": {}
        }
      ]
    },
    {
      "cell_type": "markdown",
      "source": [
        "We then calculate the model corresponding to the optimal $λ$."
      ],
      "metadata": {
        "id": "VARMU_4hWLsc"
      }
    },
    {
      "cell_type": "markdown",
      "source": [
        "As mentioned above, the $x_1$ variable ($Agriculture$) is not included in the final model, while the $x_4$ variable ($Catholic$) does not contribute significantly."
      ],
      "metadata": {
        "id": "hqVFkaVNWRna"
      }
    },
    {
      "cell_type": "markdown",
      "source": [
        "#Model Comparison"
      ],
      "metadata": {
        "id": "a6bco_7nf50C"
      }
    },
    {
      "cell_type": "markdown",
      "source": [
        "By comparison of the two models, we can see that the variables $x_1$ and $x_4$ had a small but not that insignificant effect in the first model (using AIC criterion), while being completely absent or insignificant in the second model (using Lasso method)."
      ],
      "metadata": {
        "id": "qOI-yd2xW7C-"
      }
    },
    {
      "cell_type": "markdown",
      "source": [
        "We proceed to install a package for data splitting to create training and testing data using the 80-20 rule."
      ],
      "metadata": {
        "id": "_byfShnjgBx3"
      }
    },
    {
      "cell_type": "code",
      "source": [
        "install.packages(\"caTools\")\n",
        "library(caTools)"
      ],
      "metadata": {
        "colab": {
          "base_uri": "https://localhost:8080/"
        },
        "id": "ln8L-Umbd1Zq",
        "outputId": "1e5b8684-0d3d-4c1a-fc6a-0add465e379e"
      },
      "execution_count": 55,
      "outputs": [
        {
          "output_type": "stream",
          "name": "stderr",
          "text": [
            "Installing package into ‘/usr/local/lib/R/site-library’\n",
            "(as ‘lib’ is unspecified)\n",
            "\n"
          ]
        }
      ]
    },
    {
      "cell_type": "markdown",
      "source": [
        "We split the data, using 80% of it for training and 20% for testing purposes."
      ],
      "metadata": {
        "id": "JpOC2yY8gQnS"
      }
    },
    {
      "cell_type": "code",
      "source": [
        "split <- sample.split(swiss$Fertility, SplitRatio = 0.8)  # 80% training, 20% testing\n",
        "train_data <- as.data.frame(subset(swiss, split == TRUE))\n",
        "test_data <- as.data.frame(subset(swiss, split == FALSE))"
      ],
      "metadata": {
        "id": "krmzKgaIfY4j"
      },
      "execution_count": 60,
      "outputs": []
    },
    {
      "cell_type": "markdown",
      "source": [
        "##Mean Square Error\n"
      ],
      "metadata": {
        "id": "ye_4VUaTga3F"
      }
    },
    {
      "cell_type": "markdown",
      "source": [
        "MSE of M1 model."
      ],
      "metadata": {
        "id": "Db2UDOJlg2Gz"
      }
    },
    {
      "cell_type": "code",
      "source": [
        "y_pred_aic <- predict(M1, newdata = test_data)\n",
        "mse_aic <- mean((test_data$Fertility - y_pred_aic)^2)\n",
        "print(mse_aic)"
      ],
      "metadata": {
        "colab": {
          "base_uri": "https://localhost:8080/"
        },
        "id": "pCRkfTE0fnR0",
        "outputId": "cdcfc0ba-d53f-4cfd-ad82-9cf381c07bf8"
      },
      "execution_count": 62,
      "outputs": [
        {
          "output_type": "stream",
          "name": "stdout",
          "text": [
            "[1] 68.04377\n"
          ]
        }
      ]
    },
    {
      "cell_type": "markdown",
      "source": [
        "MSE of Lasso model."
      ],
      "metadata": {
        "id": "tn_9Bl-bg3G0"
      }
    },
    {
      "cell_type": "code",
      "source": [
        "y_pred_lasso <- predict(lasso1, s = \"lambda.min\", newx = as.matrix(test_data[, -1]))\n",
        "mse_lasso <- mean((test_data$Fertility - y_pred_lasso)^2)\n",
        "print(mse_lasso)"
      ],
      "metadata": {
        "colab": {
          "base_uri": "https://localhost:8080/"
        },
        "id": "SOEn97FBfzqa",
        "outputId": "ed76a6a8-ea2b-43d1-c9b2-44278938dd3c"
      },
      "execution_count": 64,
      "outputs": [
        {
          "output_type": "stream",
          "name": "stdout",
          "text": [
            "[1] 61.46415\n"
          ]
        }
      ]
    },
    {
      "cell_type": "markdown",
      "source": [
        "We notice a smaller MSE for the Lasso model, indicating its superiority between the two."
      ],
      "metadata": {
        "id": "AgbBraCjm1we"
      }
    },
    {
      "cell_type": "markdown",
      "source": [
        "##$R^2$ Coefficient of determination"
      ],
      "metadata": {
        "id": "psJojJt7mp3H"
      }
    },
    {
      "cell_type": "code",
      "source": [
        "r2_aic <- summary(M1)$r.squared\n",
        "r2_aic"
      ],
      "metadata": {
        "colab": {
          "base_uri": "https://localhost:8080/",
          "height": 34
        },
        "id": "CzNSUQF2mnVx",
        "outputId": "3d6332a5-a33b-45f0-bd9c-3b5e681208cc"
      },
      "execution_count": 81,
      "outputs": [
        {
          "output_type": "display_data",
          "data": {
            "text/html": [
              "0.699347583077601"
            ],
            "text/markdown": "0.699347583077601",
            "text/latex": "0.699347583077601",
            "text/plain": [
              "[1] 0.6993476"
            ]
          },
          "metadata": {}
        }
      ]
    },
    {
      "cell_type": "code",
      "source": [
        "y_pred_train_lasso <- predict(lasso1, s = \"lambda.min\", newx = as.matrix(train_data[, -1]))\n",
        "sst <- sum((train_data$Fertility - mean(train_data$Fertility))^2)\n",
        "sse <- sum((train_data$Fertility - y_pred_train_lasso)^2)\n",
        "r2_lasso <- 1 - sse/sst\n",
        "r2_lasso"
      ],
      "metadata": {
        "colab": {
          "base_uri": "https://localhost:8080/",
          "height": 34
        },
        "id": "wb3QAjjyj-1X",
        "outputId": "f2cfdaa0-fb97-4eff-9272-44a8b4ccb369"
      },
      "execution_count": 80,
      "outputs": [
        {
          "output_type": "display_data",
          "data": {
            "text/html": [
              "0.767393107660449"
            ],
            "text/markdown": "0.767393107660449",
            "text/latex": "0.767393107660449",
            "text/plain": [
              "[1] 0.7673931"
            ]
          },
          "metadata": {}
        }
      ]
    },
    {
      "cell_type": "markdown",
      "source": [
        "Furthermore the $R^2$ coefficient is bigger for the Lasso model indicating a better fit, thus making it a better model."
      ],
      "metadata": {
        "id": "IdCG5jkmnHFY"
      }
    }
  ]
}